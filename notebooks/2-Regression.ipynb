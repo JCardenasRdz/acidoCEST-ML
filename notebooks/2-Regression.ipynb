{
 "cells": [
  {
   "cell_type": "markdown",
   "id": "f8c021da-c19e-47f9-9824-b54df544aef4",
   "metadata": {},
   "source": [
    "### Classification of pH range using machine learning"
   ]
  },
  {
   "cell_type": "code",
   "execution_count": null,
   "id": "5d5984d6-29ab-449a-94d7-5e56c31182e0",
   "metadata": {},
   "outputs": [],
   "source": [
    "#libs\n",
    "from sklearn.model_selection import train_test_split\n",
    "from sklearn.model_selection import GridSearchCV\n",
    "from sklearn import linear_model\n",
    "import pandas as pd\n",
    "import numpy as np\n",
    "import scikitplot as skplt\n",
    "import matplotlib.pyplot as plt\n",
    "from sklearn import metrics\n",
    "\n",
    "from sklearn.pipeline import Pipeline\n",
    "from sklearn import preprocessing as pp\n",
    "import seaborn as sns"
   ]
  },
  {
   "cell_type": "code",
   "execution_count": null,
   "id": "618d8eec-1dd3-493c-880a-3605b7687b78",
   "metadata": {},
   "outputs": [],
   "source": [
    "# load data\n",
    "acidoCEST_ML = pd.read_parquet('../clean_data/acido_CEST_MRI_Iopamidol.parquet.gzip')\n",
    "\n",
    "# drop columns we cannot measure or that are redundant\n",
    "cols_2_drop = ['ApproT1(sec)','Temp','ExpB0(ppm)','FILE','Conc(mM)']\n",
    "acidoCEST_ML = acidoCEST_ML.drop(cols_2_drop, axis = 1)"
   ]
  },
  {
   "cell_type": "code",
   "execution_count": null,
   "id": "b511692d-0614-4a72-9f5d-ff4868b0d4b9",
   "metadata": {},
   "outputs": [],
   "source": [
    "# define experimental columns -- > things we measure other than CEST\n",
    "exper_cols = [ 'ExpB1(percent)', 'ExpB0(Hz)', 'SatPower(uT)',  'SatTime(ms)','ExpT1(ms)', 'ExpT2(ms)']"
   ]
  },
  {
   "cell_type": "code",
   "execution_count": null,
   "id": "ca49a223-b56b-400c-947b-af4b4d374e45",
   "metadata": {},
   "outputs": [],
   "source": [
    "# used during development\n",
    "#acidoCEST_ML  = acidoCEST_ML.sample( n=100)"
   ]
  },
  {
   "cell_type": "code",
   "execution_count": null,
   "id": "742edb9f-1d90-4892-ba0b-71a9ee9f925a",
   "metadata": {},
   "outputs": [],
   "source": [
    "acidoCEST_ML.shape"
   ]
  },
  {
   "cell_type": "code",
   "execution_count": null,
   "id": "688271ce-5a0e-4644-abb7-04b3ac40aa05",
   "metadata": {
    "tags": []
   },
   "outputs": [],
   "source": [
    "# Regression\n",
    "from sklearn.metrics import confusion_matrix, classification_report\n",
    "from sklearn.ensemble import RandomForestRegressor as RFR\n",
    "\n",
    "def train_RFR(Xdata, pH_observed):\n",
    "    print('------------------ Random Forest ------------------ ')\n",
    "    print()\n",
    "    # Split data\n",
    "    X_train, X_test, y_train, y_test = train_test_split(Xdata, pH_observed, test_size=0.30, random_state=42)\n",
    "        \n",
    "        \n",
    "    # Regression\n",
    "    param_grid = dict( n_estimators = [50,100], max_depth =[4,8,10,20] )\n",
    "\n",
    "    # grid parameters\n",
    "    scorer = metrics.make_scorer( metrics.mean_absolute_percentage_error, greater_is_better=False) \n",
    "    estimator = GridSearchCV( RFR(random_state=42, criterion = 'mae', n_jobs = 4), param_grid, verbose = 2, cv = 3, n_jobs= 6, scoring=scorer )\n",
    "\n",
    "    # fit\n",
    "    estimator.fit(X_train, y_train)\n",
    "\n",
    "    score_train = np.round( 100 * metrics.mean_absolute_percentage_error(y_train , estimator.predict(X_train)), 2)\n",
    "    score_test  = np.round( 100 * metrics.mean_absolute_percentage_error(y_test , estimator.predict(X_test)), 2)\n",
    "\n",
    "\n",
    "\n",
    "    m = f' mean absolute percentage error \\n train = {score_train} % \\n test  = {score_test} %'\n",
    "    \n",
    "    #print(', '.join(Xdata.columns.to_list()))\n",
    "    print()\n",
    "    print(m)\n",
    "   \n",
    "    plt.figure()\n",
    "    sns.regplot(x = estimator.best_estimator_.predict(X_train), y =  y_train)\n",
    "    plt.xlabel('\\n Predicted pH')\n",
    "    plt.ylabel('Measured pH \\n')\n",
    "    plt.title('Train Random Forest')\n",
    "    \n",
    "    plt.figure()\n",
    "    sns.regplot(x = estimator.best_estimator_.predict(X_test), y =  y_test)\n",
    "    plt.xlabel('\\n Predicted pH')\n",
    "    plt.ylabel('Measured pH \\n')\n",
    "    plt.title('Test Random Forest')\n",
    "    \n",
    "    print(estimator.best_estimator_)\n",
    "    \n",
    "    return estimator.best_estimator_\n",
    "    \n",
    "    \n",
    "def train_lasso(Xdata, pH_observed):\n",
    "    print('------------------ LASSO ------------------ ')\n",
    "    print()\n",
    "    # Split data\n",
    "    X_train, X_test, y_train, y_test = train_test_split(Xdata, pH_observed, test_size=0.30, random_state=42)\n",
    "    \n",
    "    # LASSO\n",
    "    lasso = linear_model.Lasso( max_iter=5000, random_state=42)\n",
    "\n",
    "    #pipeline\n",
    "    pipe = Pipeline(steps=[('Scaler', pp.StandardScaler()), ('lasso', lasso)])\n",
    "\n",
    "    param_grid ={\n",
    "            'lasso__alpha': np.linspace(.01,1,20),\n",
    "            'lasso__fit_intercept': [True,False]\n",
    "            }\n",
    "\n",
    "    scorer = metrics.make_scorer( metrics.mean_absolute_percentage_error, greater_is_better=False) \n",
    "\n",
    "\n",
    "    estimator = GridSearchCV(pipe, param_grid, verbose = 2, cv = 3, n_jobs= 6, scoring=scorer )\n",
    "\n",
    "\n",
    "    # fit\n",
    "    estimator.fit(X_train, y_train)\n",
    "\n",
    "    score_train = np.round( 100 * metrics.mean_absolute_percentage_error(y_train , estimator.predict(X_train)), 2)\n",
    "    score_test  = np.round( 100 * metrics.mean_absolute_percentage_error(y_test , estimator.predict(X_test)), 2)\n",
    "\n",
    "    m = f' mean absolute percentage error \\n train = {score_train} % \\n test  = {score_test} %'\n",
    "    \n",
    "  \n",
    "    #print(', '.join(Xdata.columns.to_list()))\n",
    "    print()\n",
    "    print(m)\n",
    "\n",
    "    \n",
    "    plt.figure()\n",
    "    sns.regplot(x = estimator.best_estimator_.predict(X_train), y =  y_train)\n",
    "    plt.xlabel('\\n Predicted pH')\n",
    "    plt.ylabel('Measured pH \\n')\n",
    "    plt.title('Train LASSO')\n",
    "    \n",
    "    plt.figure()\n",
    "    sns.regplot(x = estimator.best_estimator_.predict(X_test), y =  y_test)\n",
    "    plt.xlabel('\\n Predicted pH')\n",
    "    plt.ylabel('Measured pH \\n')\n",
    "    plt.title('Test LASSO')\n",
    "    \n",
    "    return estimator.best_estimator_"
   ]
  },
  {
   "cell_type": "markdown",
   "id": "df1a32ca-fb72-43fc-8b04-90d9a8eddd5d",
   "metadata": {},
   "source": [
    "## 4.2 and 5.6 only"
   ]
  },
  {
   "cell_type": "code",
   "execution_count": null,
   "id": "a4b3b62b-49ee-4ed6-a6bb-50e363c88016",
   "metadata": {},
   "outputs": [],
   "source": [
    "X = acidoCEST_ML[['4.2','5.6']]\n",
    "Y = acidoCEST_ML.pH\n",
    "\n",
    "reg_rf = train_RFR(X,Y)\n",
    "reg_lr = train_lasso(X,Y)"
   ]
  },
  {
   "cell_type": "markdown",
   "id": "3da36960-30dc-4b38-9aa9-778616e1678c",
   "metadata": {},
   "source": [
    "## 4.2 ppm, 5.6 ppm, exp data"
   ]
  },
  {
   "cell_type": "code",
   "execution_count": null,
   "id": "adf1b153-9493-4b6d-a056-aecca70a0f59",
   "metadata": {},
   "outputs": [],
   "source": [
    "len(['4.2','5.6'] + exper_cols)\n",
    "c = ['4.2','5.6'] + exper_cols\n",
    "X = acidoCEST_ML[c]\n",
    "Y = acidoCEST_ML.pH\n",
    "\n",
    "train_RFR(X,Y)\n",
    "train_lasso(X,Y)"
   ]
  },
  {
   "cell_type": "markdown",
   "id": "e71ad8fe-9d30-448b-ae6a-a71f0255fb2a",
   "metadata": {},
   "source": [
    "# - Only Zspectra"
   ]
  },
  {
   "cell_type": "code",
   "execution_count": null,
   "id": "0a216fb5-86d4-4e91-9351-dd52e09dbaf6",
   "metadata": {},
   "outputs": [],
   "source": [
    "Xdata = acidoCEST_ML.drop(exper_cols + ['pH'],axis=1)\n",
    "Ydata = acidoCEST_ML.pH \n",
    "\n",
    "\n",
    "train_RFR(Xdata,Ydata)\n",
    "train_lasso(Xdata,Ydata)"
   ]
  },
  {
   "cell_type": "markdown",
   "id": "29c13a72-632e-46e5-b4e2-77cfc0161613",
   "metadata": {},
   "source": [
    "# -  Zspectra  + exp data"
   ]
  },
  {
   "cell_type": "code",
   "execution_count": null,
   "id": "929a0ca3-3655-4a33-ac0a-2751c8b66289",
   "metadata": {
    "tags": []
   },
   "outputs": [],
   "source": [
    "Xdata = acidoCEST_ML.drop( ['pH'],axis=1) \n",
    "Ydata = acidoCEST_ML.pH\n",
    "\n",
    "\n",
    "RF    = train_RFR(Xdata,Ydata)\n",
    "lasso = train_lasso(Xdata,Ydata)"
   ]
  },
  {
   "cell_type": "markdown",
   "id": "5b6ffd12-842b-486d-b02d-f445ff2adfbb",
   "metadata": {},
   "source": [
    "## LASSO COEFF"
   ]
  },
  {
   "cell_type": "code",
   "execution_count": null,
   "id": "f7b50243-533e-4a8d-b7db-a5d12c5282d3",
   "metadata": {},
   "outputs": [],
   "source": [
    "reg_lasso = lasso['lasso']\n",
    "\n",
    "C = pd.DataFrame( reg_lasso.coef_ , columns=['Lasso Coeff'], index = Xdata.columns)\n",
    "_, ax = plt.subplots(dpi = 100)\n",
    "\n",
    "C[reg_lasso.coef_ != 0].plot(kind='bar', ax = ax)\n",
    "plt.title('Non-zero Lasso Coefficients \\n')\n",
    "plt.xlabel('\\n Feature')\n",
    "plt.ylabel('Value \\n')\n",
    "\n"
   ]
  },
  {
   "cell_type": "markdown",
   "id": "4419ae8b-bca8-4f7d-9996-707cfb47c5fd",
   "metadata": {},
   "source": [
    "## Random Forest, Feature Importance"
   ]
  },
  {
   "cell_type": "code",
   "execution_count": null,
   "id": "aa84f28a-1668-4493-9737-ab6e2abaf9ee",
   "metadata": {},
   "outputs": [],
   "source": [
    "I = pd.DataFrame( 100 * RF.feature_importances_, columns=['Importance'], index = Xdata.columns)\n",
    "_, ax = plt.subplots(dpi = 100, figsize=(16,6))\n",
    "\n",
    "I.sort_values('Importance').plot(kind='bar', ax = ax, rot=90)"
   ]
  },
  {
   "cell_type": "markdown",
   "id": "9165aee8-c400-40b7-b1c7-5493ad23e101",
   "metadata": {},
   "source": [
    "## Feature Selection"
   ]
  },
  {
   "cell_type": "code",
   "execution_count": null,
   "id": "9e1416a7-cece-4168-a8aa-c53006cbdf13",
   "metadata": {},
   "outputs": [],
   "source": [
    "from sklearn.feature_selection import SelectFromModel\n"
   ]
  },
  {
   "cell_type": "code",
   "execution_count": null,
   "id": "a304e1b8-dd48-4bd1-9e0d-4ea024ba41bc",
   "metadata": {},
   "outputs": [],
   "source": [
    "selected_lasso = SelectFromModel( reg_lasso, max_features=20) \n",
    "selected_lasso.fit(Xdata, Ydata)\n",
    "Xdata.columns[selected_lasso.get_support()]"
   ]
  },
  {
   "cell_type": "code",
   "execution_count": null,
   "id": "f3296a74-479b-4f60-8527-0ac5ce4478aa",
   "metadata": {},
   "outputs": [],
   "source": [
    "selected_RF = SelectFromModel( RF  , max_features=20) \n",
    "selected_RF.fit(Xdata, Ydata)\n",
    "Xdata.columns[selected_RF.get_support()]"
   ]
  },
  {
   "cell_type": "markdown",
   "id": "f7e4bc53-79dc-4f2d-8691-556c9fa9d81a",
   "metadata": {},
   "source": [
    "## Tree Vis"
   ]
  },
  {
   "cell_type": "code",
   "execution_count": null,
   "id": "4f9d43f2-f320-4115-82a9-28379e31e9e6",
   "metadata": {},
   "outputs": [],
   "source": [
    "n_features = []\n",
    "\n",
    "for i,tree in enumerate( RF.estimators_):\n",
    "    ft = list( Xdata.columns[ tree.feature_importances_ != 0  ]  )\n",
    "    n = len(Xdata.columns[ tree.feature_importances_ != 0  ])\n",
    "    n_non_CEST = sum(['(' in x for x in ft])\n",
    "    print(f' tree = {i+1} | {n - n_non_CEST} saturation frequencies | {n_non_CEST} non-CEST | total = {n}')\n",
    "    n_features.append(n)"
   ]
  },
  {
   "cell_type": "code",
   "execution_count": null,
   "id": "cdf4a5e2-5ad9-478c-8d39-143902c37493",
   "metadata": {},
   "outputs": [],
   "source": [
    "%%capture\n",
    "import matplotlib.pyplot as plt\n",
    "from sklearn.tree import plot_tree\n",
    "\n",
    "\n",
    "idx = np.argmin(n_features)-1\n",
    "tree= RF.estimators_[idx]\n",
    "\n",
    "#classes = list( pd.Series(tree.classes_).replace([0,1],[' pH < 7', 'pH > 7']).values )\n",
    "\n",
    "fig = plt.figure(dpi=500)\n",
    "plot_tree( tree,  feature_names = Xdata.columns,\n",
    "          filled=True, impurity=False,  max_depth = 4, fontsize = 4, label='none', proportion =True,\n",
    "          rounded=False);\n",
    "\n",
    "plt.savefig(f'../figs/Tree_example_max_depth_04_tree{idx}_regression.png',bbox_inches='tight')"
   ]
  },
  {
   "cell_type": "code",
   "execution_count": null,
   "id": "b6c26bc9-83c9-4bb0-b15b-7dbadca7df7c",
   "metadata": {},
   "outputs": [],
   "source": [
    "from sklearn.tree import export_text\n",
    "\n",
    "tree_as_text = export_text( tree\n",
    "                  ,  max_depth = 4\n",
    "                  ,  decimals = 3\n",
    "                  ,  spacing = 3\n",
    "                  , feature_names = list( Xdata.columns  )\n",
    "                  , show_weights=True )   "
   ]
  },
  {
   "cell_type": "code",
   "execution_count": null,
   "id": "afea483b-3de9-44d4-ad6a-affb407a6fce",
   "metadata": {},
   "outputs": [],
   "source": [
    "print(tree_as_text)"
   ]
  },
  {
   "cell_type": "code",
   "execution_count": null,
   "id": "3233bc34-23ce-45d2-ae6e-2cba95ce3e84",
   "metadata": {},
   "outputs": [],
   "source": []
  }
 ],
 "metadata": {
  "kernelspec": {
   "display_name": "Python 3 (ipykernel)",
   "language": "python",
   "name": "python3"
  },
  "language_info": {
   "codemirror_mode": {
    "name": "ipython",
    "version": 3
   },
   "file_extension": ".py",
   "mimetype": "text/x-python",
   "name": "python",
   "nbconvert_exporter": "python",
   "pygments_lexer": "ipython3",
   "version": "3.9.6"
  }
 },
 "nbformat": 4,
 "nbformat_minor": 5
}
