{
 "cells": [
  {
   "cell_type": "markdown",
   "metadata": {},
   "source": [
    "## Modules"
   ]
  },
  {
   "cell_type": "code",
   "execution_count": null,
   "metadata": {},
   "outputs": [],
   "source": [
    "import pandas as pd\n",
    "import numpy as np\n",
    "import matplotlib.pyplot as plt"
   ]
  },
  {
   "cell_type": "code",
   "execution_count": null,
   "metadata": {},
   "outputs": [],
   "source": [
    "def clean_my_file(file_name):\n",
    "    \n",
    "    # read csv\n",
    "    exp = pd.read_csv(file_name)\n",
    "    # list of freqs\n",
    "    \n",
    "    list_of_freqs = exp.columns[12::].to_list()\n",
    "    \n",
    "    # index of first real freq\n",
    "    index = list_of_freqs.index('-12')\n",
    "    \n",
    "    # normalize\n",
    "    norm_factor = exp[ list_of_freqs[0:index-1] ].iloc[:,-1]\n",
    "    \n",
    "    raw_data = exp[ list_of_freqs[index::] ]\n",
    "    \n",
    "    # preallocate with zeros\n",
    "    Zspectra = np.zeros(raw_data.shape)\n",
    "    \n",
    "    \n",
    "    for i in range(raw_data.shape[0]):\n",
    "        Zspectra[i,:] = raw_data.iloc[i,:] / norm_factor[i]\n",
    "        \n",
    "    \n",
    "    #out[exp.columns[0:11].to_list()] = exp.columns[0:11].copy()\n",
    "    \n",
    "    out = exp[ exp.columns[0:11] ].copy()\n",
    "    \n",
    "    out['FILE']  = file_name.split('/raw_data/')[1]\n",
    "    \n",
    "    Z = pd.DataFrame(Zspectra, columns= list_of_freqs[index::])\n",
    "    \n",
    "    out[Z.columns] = Z.copy()\n",
    "    \n",
    "    return out\n",
    "    \n"
   ]
  },
  {
   "cell_type": "markdown",
   "metadata": {},
   "source": [
    "### Load data"
   ]
  },
  {
   "cell_type": "markdown",
   "metadata": {},
   "source": []
  },
  {
   "cell_type": "code",
   "execution_count": null,
   "metadata": {},
   "outputs": [],
   "source": [
    "%%time\n",
    "\n",
    "import os\n",
    "from glob import glob\n",
    "PATH = \"../raw_data\"\n",
    "EXT = \"*.csv\"\n",
    "all_csv_files = [file\n",
    "                 for path, subdir, files in os.walk(PATH)\n",
    "                 for file in glob(os.path.join(path, EXT))]\n",
    "\n",
    "data = pd.DataFrame()\n",
    "\n",
    "for file in all_csv_files:\n",
    "    exp = clean_my_file(file)\n",
    "    data = pd.concat( (data,  exp), sort=False )\n",
    "    "
   ]
  },
  {
   "cell_type": "code",
   "execution_count": null,
   "metadata": {},
   "outputs": [],
   "source": [
    "data.head(2)"
   ]
  },
  {
   "cell_type": "markdown",
   "metadata": {},
   "source": [
    "### Save data"
   ]
  },
  {
   "cell_type": "code",
   "execution_count": null,
   "metadata": {},
   "outputs": [],
   "source": [
    "data.to_csv('../clean_data/acido_CEST_MRI_Iopamidol.csv')"
   ]
  },
  {
   "cell_type": "code",
   "execution_count": null,
   "metadata": {},
   "outputs": [],
   "source": []
  }
 ],
 "metadata": {
  "kernelspec": {
   "display_name": "Python 3",
   "language": "python",
   "name": "python3"
  },
  "language_info": {
   "codemirror_mode": {
    "name": "ipython",
    "version": 3
   },
   "file_extension": ".py",
   "mimetype": "text/x-python",
   "name": "python",
   "nbconvert_exporter": "python",
   "pygments_lexer": "ipython3",
   "version": "3.9.1"
  }
 },
 "nbformat": 4,
 "nbformat_minor": 4
}
